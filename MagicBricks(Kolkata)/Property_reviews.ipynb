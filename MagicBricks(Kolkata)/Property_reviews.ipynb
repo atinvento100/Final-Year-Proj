{
 "cells": [
  {
   "cell_type": "code",
   "execution_count": 4,
   "metadata": {},
   "outputs": [],
   "source": [
    "import pandas as pd\n",
    "import numpy as np\n",
    "import os\n",
    "from bs4 import BeautifulSoup\n",
    "from selenium import webdriver\n",
    "import sys\n",
    "import json\n",
    "import csv\n",
    "import re\n",
    "\n"
   ]
  },
  {
   "cell_type": "code",
   "execution_count": 5,
   "metadata": {},
   "outputs": [
    {
     "name": "stdout",
     "output_type": "stream",
     "text": [
      "chromedriver path: C:/Users/HP/Downloads/chromedriver_win32/chromedriver\n"
     ]
    }
   ],
   "source": [
    "chromedriver = \"C:/Users/HP/Downloads/chromedriver_win32/chromedriver\" # path to the chromedriver executable\n",
    "chromedriver = os.path.expanduser(chromedriver)\n",
    "print('chromedriver path: {}'.format(chromedriver))\n",
    "sys.path.append(chromedriver)\n",
    "driver = webdriver.Chrome(chromedriver)"
   ]
  },
  {
   "cell_type": "code",
   "execution_count": 6,
   "metadata": {},
   "outputs": [
    {
     "data": {
      "text/html": [
       "<div>\n",
       "<style scoped>\n",
       "    .dataframe tbody tr th:only-of-type {\n",
       "        vertical-align: middle;\n",
       "    }\n",
       "\n",
       "    .dataframe tbody tr th {\n",
       "        vertical-align: top;\n",
       "    }\n",
       "\n",
       "    .dataframe thead th {\n",
       "        text-align: right;\n",
       "    }\n",
       "</style>\n",
       "<table border=\"1\" class=\"dataframe\">\n",
       "  <thead>\n",
       "    <tr style=\"text-align: right;\">\n",
       "      <th></th>\n",
       "      <th>href</th>\n",
       "    </tr>\n",
       "  </thead>\n",
       "  <tbody>\n",
       "    <tr>\n",
       "      <th>0</th>\n",
       "      <td>https://www.magicbricks.com/orbit-lumiere-bt-r...</td>\n",
       "    </tr>\n",
       "    <tr>\n",
       "      <th>1</th>\n",
       "      <td>https://www.magicbricks.com/fortune-heights-ba...</td>\n",
       "    </tr>\n",
       "    <tr>\n",
       "      <th>2</th>\n",
       "      <td>https://www.magicbricks.com/golden-heights-son...</td>\n",
       "    </tr>\n",
       "    <tr>\n",
       "      <th>3</th>\n",
       "      <td>https://www.magicbricks.com/green-heights-ii-r...</td>\n",
       "    </tr>\n",
       "  </tbody>\n",
       "</table>\n",
       "</div>"
      ],
      "text/plain": [
       "                                                href\n",
       "0  https://www.magicbricks.com/orbit-lumiere-bt-r...\n",
       "1  https://www.magicbricks.com/fortune-heights-ba...\n",
       "2  https://www.magicbricks.com/golden-heights-son...\n",
       "3  https://www.magicbricks.com/green-heights-ii-r..."
      ]
     },
     "execution_count": 6,
     "metadata": {},
     "output_type": "execute_result"
    }
   ],
   "source": [
    "hrefdata = pd.read_csv('href.csv')\n",
    "hrefdata.head(4)"
   ]
  },
  {
   "cell_type": "code",
   "execution_count": 7,
   "metadata": {},
   "outputs": [],
   "source": [
    "cols = ['property_name','reviewer','date','stars','heading','review']\n",
    "r=[]\n",
    "def get_review(soup):\n",
    "    prop=soup.find_all('div',class_='review-block')\n",
    "    property_name = soup.find('h1',class_='heading')\n",
    "    if property_name is None:\n",
    "            property_name = \"?\"\n",
    "    else:\n",
    "        property_name = str(property_name.get_text())\n",
    "    for i in prop:\n",
    "        temp=[]\n",
    "        reviewer=i.find('div',{\"class\" : \"review__name ellipsis\"})\n",
    "        date = i.find('div',class_='review__date')\n",
    "        stars = i.find_all('span', class_='rating__star full')\n",
    "        stars = len(stars)\n",
    "        heading = i.find('div',class_='heading-2 ellipsis')\n",
    "        review = i.find('div',class_='review__msg addReadMore showlesscontent')\n",
    "        \n",
    "            \n",
    "        if reviewer is None:\n",
    "            reviewer=\"?\"\n",
    "        else:\n",
    "            reviewer = str(reviewer.get_text())\n",
    "        if date is None:\n",
    "            date=\"?\"\n",
    "        else:\n",
    "            date = str(date.get_text())\n",
    "        if heading is None:\n",
    "            reviewer=\"?\"\n",
    "        else:\n",
    "            heading = str(heading.get_text())\n",
    "        if review is None:\n",
    "            review=\"?\"\n",
    "        else:\n",
    "            review = str(review.get_text())\n",
    "        \n",
    "        \n",
    "        temp = [property_name,reviewer,date,stars,heading,review]\n",
    "        r.append(temp)\n",
    "        \n",
    "    \n",
    "    \n",
    "        "
   ]
  },
  {
   "cell_type": "code",
   "execution_count": 8,
   "metadata": {},
   "outputs": [
    {
     "name": "stdout",
     "output_type": "stream",
     "text": [
      "csv file\n"
     ]
    }
   ],
   "source": [
    "with open(\"reviews.csv\",'w') as f:\n",
    "    print(\"csv file\")\n",
    "    f.close()"
   ]
  },
  {
   "cell_type": "code",
   "execution_count": null,
   "metadata": {},
   "outputs": [],
   "source": [
    "num=0\n",
    "\n",
    "for hr in hrefdata['href']:    \n",
    "    driver.get(hr)\n",
    "    soup = BeautifulSoup(driver.page_source, 'html.parser')\n",
    "    get_review(soup)\n",
    "    \n",
    "with open(\"reviews.csv\",'r+') as f:\n",
    "    writer = csv.writer(f)\n",
    "    writer.writerow(cols)\n",
    "    for i in r:\n",
    "        writer.writerow(i)\n",
    "    f.close()"
   ]
  },
  {
   "cell_type": "code",
   "execution_count": null,
   "metadata": {},
   "outputs": [],
   "source": [
    "reviews = pd.read_csv('reviews.csv')\n",
    "reviews"
   ]
  },
  {
   "cell_type": "code",
   "execution_count": 9,
   "metadata": {},
   "outputs": [
    {
     "data": {
      "text/plain": [
       "(354, 6)"
      ]
     },
     "execution_count": 9,
     "metadata": {},
     "output_type": "execute_result"
    }
   ],
   "source": [
    "reviews.shape"
   ]
  },
  {
   "cell_type": "code",
   "execution_count": null,
   "metadata": {},
   "outputs": [],
   "source": []
  }
 ],
 "metadata": {
  "kernelspec": {
   "display_name": "Python 3",
   "language": "python",
   "name": "python3"
  },
  "language_info": {
   "codemirror_mode": {
    "name": "ipython",
    "version": 3
   },
   "file_extension": ".py",
   "mimetype": "text/x-python",
   "name": "python",
   "nbconvert_exporter": "python",
   "pygments_lexer": "ipython3",
   "version": "3.8.5"
  }
 },
 "nbformat": 4,
 "nbformat_minor": 4
}
