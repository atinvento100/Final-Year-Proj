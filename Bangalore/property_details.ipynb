{
 "cells": [
  {
   "cell_type": "code",
   "execution_count": 79,
   "metadata": {},
   "outputs": [],
   "source": [
    "import pandas as pd\n",
    "import numpy as np\n",
    "import os\n",
    "from bs4 import BeautifulSoup\n",
    "from selenium import webdriver\n",
    "import sys\n",
    "import json\n",
    "import csv\n",
    "import re"
   ]
  },
  {
   "cell_type": "code",
   "execution_count": 80,
   "metadata": {},
   "outputs": [
    {
     "name": "stdout",
     "output_type": "stream",
     "text": [
      "chromedriver path: C:/Users/HP/Downloads/chromedriver_win32/chromedriver\n"
     ]
    }
   ],
   "source": [
    "chromedriver = \"C:/Users/HP/Downloads/chromedriver_win32/chromedriver\" # path to the chromedriver executable\n",
    "chromedriver = os.path.expanduser(chromedriver)\n",
    "print('chromedriver path: {}'.format(chromedriver))\n",
    "sys.path.append(chromedriver)\n",
    "driver = webdriver.Chrome(chromedriver)"
   ]
  },
  {
   "cell_type": "code",
   "execution_count": 81,
   "metadata": {},
   "outputs": [],
   "source": [
    "v=[\"name\",\"id\",\"description\",\"url\",\"price\",\"priceInWord\",\"cityName\",\"addressLocality\",\"longitude\",\"latitude\",\"numberOfRooms\",\"bathroom\",\"bedroom\",\"floorSize\",\"floorno\",\"furnshingstatus\",\"agentName\",\"agentCompanyName\",\"agentMaskedmobilenumber\"]\n",
    "\n",
    "def get_house_links( driver):\n",
    "    house_links=[]\n",
    "    cities=['Bangalore']\n",
    "    h=[]\n",
    "    for city in cities:\n",
    "        for i in range(1,31):\n",
    "            driver.get(\"https://www.magicbricks.com/property-for-sale/residential-real-estate?proptype=Multistorey-Apartment,Builder-Floor-Apartment,Penthouse,Studio-Apartment,Residential-House,Villa&page=\"+str(i)+\"&cityName=\"+str(city))\n",
    "            soup = BeautifulSoup(driver.page_source, 'html.parser')\n",
    "            \n",
    "            get_data(soup,h)\n",
    "            \n",
    "    with open(\"data.csv\",'r+') as f:\n",
    "        writer = csv.writer(f)\n",
    "        writer.writerow(v)\n",
    "        for i in h:\n",
    "            writer.writerow(i)\n",
    "        f.close()"
   ]
  },
  {
   "cell_type": "code",
   "execution_count": 82,
   "metadata": {},
   "outputs": [],
   "source": [
    "def get_data(soup,h):\n",
    "    prop=soup.find_all('div',class_='m-srp-card SRCard <!-- BAN-2274 Highlight Authority info start -->')\n",
    "    for i in prop:\n",
    "        name=\"\"\n",
    "        id_=\"\"\n",
    "        description=\"\"\n",
    "        url=\"\"\n",
    "        price=\"\"\n",
    "        priceInWord=\"\"\n",
    "        cityName=\"\"\n",
    "        addressLocality=\"\"\n",
    "        longitude=\"\"\n",
    "        latitude=\"\"\n",
    "        numberOfRooms=\"\"\n",
    "        bathroom=\"\"\n",
    "        bedroom=\"\"\n",
    "        floorSize=\"\"\n",
    "        floorno=\"\"\n",
    "        furnshingstatus=\"\"\n",
    "        agentName=\"\"\n",
    "        agentCompanyName=\"\"\n",
    "        agentMaskedmobilenumber=\"\"\n",
    "        meta=i.find_all('meta')\n",
    "        for m in meta:\n",
    "            if m['itemprop']=='name':\n",
    "                name=m['content']\n",
    "            if m['itemprop']=='description':\n",
    "                description=m['content']\n",
    "            if m['itemprop']=='url':\n",
    "                url=str('https://www.magicbricks.com'+m['content'])\n",
    "            if m['itemprop']=='addressLocality':\n",
    "                addressLocality=m['content']\n",
    "            if m['itemprop']=='longitude':\n",
    "                longitude=m['content']\n",
    "            if m['itemprop']=='latitude':\n",
    "                latitude=m['content']\n",
    "            if m['itemprop']=='numberOfRooms':\n",
    "                numberOfRooms=m['content']\n",
    "            if m['itemprop']=='floorSize':\n",
    "                floorSize=m['content']\n",
    "        s=i.find('span',class_='hidden')\n",
    "        bathroom=s['data-bathroom']\n",
    "        bedroom=s['data-bedroom']\n",
    "        floorno=s['data-floorno']   \n",
    "        furnshingstatus=s['data-furnshingstatus']\n",
    "        price=s['data-price']\n",
    "        id_=s['id']\n",
    "        ag=soup.find('span',id=id_)\n",
    "        priceInWord=ag['data-priced']\n",
    "        cityName=ag['data-cityname']\n",
    "        agentName=ag['data-soname']\n",
    "        agentCompanyName=ag['data-companyname']\n",
    "        agentMaskedmobilenumber=ag['data-maskedmobilenumber']\n",
    "        var = [name,id_,description,url,price,priceInWord,cityName,addressLocality,longitude,latitude,numberOfRooms,bathroom,bedroom,floorSize,floorno,furnshingstatus,agentName,agentCompanyName,agentMaskedmobilenumber]\n",
    "        \n",
    "        h.append(var)\n",
    "    \n",
    "\n"
   ]
  },
  {
   "cell_type": "code",
   "execution_count": 83,
   "metadata": {},
   "outputs": [
    {
     "name": "stdout",
     "output_type": "stream",
     "text": [
      "csv file\n"
     ]
    }
   ],
   "source": [
    "with open(\"data.csv\",'w') as f:\n",
    "    print('csv file')\n",
    "    f.close()"
   ]
  },
  {
   "cell_type": "code",
   "execution_count": 84,
   "metadata": {},
   "outputs": [
    {
     "name": "stdout",
     "output_type": "stream",
     "text": [
      "done\n"
     ]
    }
   ],
   "source": [
    "get_house_links(driver)\n",
    "print(\"done\")"
   ]
  },
  {
   "cell_type": "code",
   "execution_count": null,
   "metadata": {},
   "outputs": [],
   "source": []
  }
 ],
 "metadata": {
  "kernelspec": {
   "display_name": "Python 3",
   "language": "python",
   "name": "python3"
  },
  "language_info": {
   "codemirror_mode": {
    "name": "ipython",
    "version": 3
   },
   "file_extension": ".py",
   "mimetype": "text/x-python",
   "name": "python",
   "nbconvert_exporter": "python",
   "pygments_lexer": "ipython3",
   "version": "3.8.5"
  }
 },
 "nbformat": 4,
 "nbformat_minor": 2
}
