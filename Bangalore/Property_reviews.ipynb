{
 "cells": [
  {
   "cell_type": "code",
   "execution_count": 18,
   "metadata": {},
   "outputs": [],
   "source": [
    "import pandas as pd\n",
    "import numpy as np\n",
    "import os\n",
    "from bs4 import BeautifulSoup\n",
    "from selenium import webdriver\n",
    "import sys\n",
    "import json\n",
    "import csv\n",
    "import re\n",
    "\n"
   ]
  },
  {
   "cell_type": "code",
   "execution_count": 19,
   "metadata": {},
   "outputs": [
    {
     "name": "stdout",
     "output_type": "stream",
     "text": [
      "chromedriver path: C:/Users/HP/Downloads/chromedriver_win32/chromedriver\n"
     ]
    }
   ],
   "source": [
    "chromedriver = \"C:/Users/HP/Downloads/chromedriver_win32/chromedriver\" # path to the chromedriver executable\n",
    "chromedriver = os.path.expanduser(chromedriver)\n",
    "print('chromedriver path: {}'.format(chromedriver))\n",
    "sys.path.append(chromedriver)\n",
    "driver = webdriver.Chrome(chromedriver)"
   ]
  },
  {
   "cell_type": "code",
   "execution_count": 20,
   "metadata": {},
   "outputs": [
    {
     "data": {
      "text/html": [
       "<div>\n",
       "<style scoped>\n",
       "    .dataframe tbody tr th:only-of-type {\n",
       "        vertical-align: middle;\n",
       "    }\n",
       "\n",
       "    .dataframe tbody tr th {\n",
       "        vertical-align: top;\n",
       "    }\n",
       "\n",
       "    .dataframe thead th {\n",
       "        text-align: right;\n",
       "    }\n",
       "</style>\n",
       "<table border=\"1\" class=\"dataframe\">\n",
       "  <thead>\n",
       "    <tr style=\"text-align: right;\">\n",
       "      <th></th>\n",
       "      <th>href</th>\n",
       "    </tr>\n",
       "  </thead>\n",
       "  <tbody>\n",
       "    <tr>\n",
       "      <th>0</th>\n",
       "      <td>https://www.magicbricks.com/nikhar-aventino-be...</td>\n",
       "    </tr>\n",
       "    <tr>\n",
       "      <th>1</th>\n",
       "      <td>https://www.magicbricks.com/mantri-serenity-ka...</td>\n",
       "    </tr>\n",
       "    <tr>\n",
       "      <th>2</th>\n",
       "      <td>https://www.magicbricks.com/sai-luxus-serenity...</td>\n",
       "    </tr>\n",
       "    <tr>\n",
       "      <th>3</th>\n",
       "      <td>https://www.magicbricks.com/vanamali-hennur-ma...</td>\n",
       "    </tr>\n",
       "  </tbody>\n",
       "</table>\n",
       "</div>"
      ],
      "text/plain": [
       "                                                href\n",
       "0  https://www.magicbricks.com/nikhar-aventino-be...\n",
       "1  https://www.magicbricks.com/mantri-serenity-ka...\n",
       "2  https://www.magicbricks.com/sai-luxus-serenity...\n",
       "3  https://www.magicbricks.com/vanamali-hennur-ma..."
      ]
     },
     "execution_count": 20,
     "metadata": {},
     "output_type": "execute_result"
    }
   ],
   "source": [
    "hrefdata = pd.read_csv('href.csv')\n",
    "hrefdata.head(4)"
   ]
  },
  {
   "cell_type": "code",
   "execution_count": 21,
   "metadata": {},
   "outputs": [],
   "source": [
    "cols = ['property_name','reviewer','date','stars','heading','review']\n",
    "r=[]\n",
    "def get_review(soup):\n",
    "    prop=soup.find_all('div',class_='review-block')\n",
    "    property_name = soup.find('h1',class_='heading')\n",
    "    if property_name is None:\n",
    "            property_name = \"?\"\n",
    "    else:\n",
    "        property_name = str(property_name.get_text())\n",
    "    for i in prop:\n",
    "        temp=[]\n",
    "        reviewer=i.find('div',{\"class\" : \"review__name ellipsis\"})\n",
    "        date = i.find('div',class_='review__date')\n",
    "        stars = i.find_all('span', class_='rating__star full')\n",
    "        stars = len(stars)\n",
    "        heading = i.find('div',class_='heading-2 ellipsis')\n",
    "        review = i.find('div',class_='review__msg addReadMore showlesscontent')\n",
    "        \n",
    "            \n",
    "        if reviewer is None:\n",
    "            reviewer=\"?\"\n",
    "        else:\n",
    "            reviewer = str(reviewer.get_text())\n",
    "        if date is None:\n",
    "            date=\"?\"\n",
    "        else:\n",
    "            date = str(date.get_text())\n",
    "        if heading is None:\n",
    "            reviewer=\"?\"\n",
    "        else:\n",
    "            heading = str(heading.get_text())\n",
    "        if review is None:\n",
    "            review=\"?\"\n",
    "        else:\n",
    "            review = str(review.get_text())\n",
    "        \n",
    "        \n",
    "        temp = [property_name,reviewer,date,stars,heading,review]\n",
    "        r.append(temp)\n",
    "        \n",
    "    \n",
    "    \n",
    "        "
   ]
  },
  {
   "cell_type": "code",
   "execution_count": 22,
   "metadata": {},
   "outputs": [
    {
     "name": "stdout",
     "output_type": "stream",
     "text": [
      "csv file\n"
     ]
    }
   ],
   "source": [
    "with open(\"reviews.csv\",'w') as f:\n",
    "    print(\"csv file\")\n",
    "    f.close()"
   ]
  },
  {
   "cell_type": "code",
   "execution_count": 23,
   "metadata": {},
   "outputs": [],
   "source": [
    "num=0\n",
    "\n",
    "for hr in hrefdata['href']:    \n",
    "    driver.get(hr)\n",
    "    soup = BeautifulSoup(driver.page_source, 'html.parser')\n",
    "    get_review(soup)\n",
    "    \n",
    "with open(\"reviews.csv\",'r+') as f:\n",
    "    writer = csv.writer(f)\n",
    "    writer.writerow(cols)\n",
    "    for i in r:\n",
    "        writer.writerow(i)\n",
    "    f.close()"
   ]
  },
  {
   "cell_type": "code",
   "execution_count": 24,
   "metadata": {
    "scrolled": true
   },
   "outputs": [
    {
     "data": {
      "text/html": [
       "<div>\n",
       "<style scoped>\n",
       "    .dataframe tbody tr th:only-of-type {\n",
       "        vertical-align: middle;\n",
       "    }\n",
       "\n",
       "    .dataframe tbody tr th {\n",
       "        vertical-align: top;\n",
       "    }\n",
       "\n",
       "    .dataframe thead th {\n",
       "        text-align: right;\n",
       "    }\n",
       "</style>\n",
       "<table border=\"1\" class=\"dataframe\">\n",
       "  <thead>\n",
       "    <tr style=\"text-align: right;\">\n",
       "      <th></th>\n",
       "      <th>property_name</th>\n",
       "      <th>reviewer</th>\n",
       "      <th>date</th>\n",
       "      <th>stars</th>\n",
       "      <th>heading</th>\n",
       "      <th>review</th>\n",
       "    </tr>\n",
       "  </thead>\n",
       "  <tbody>\n",
       "    <tr>\n",
       "      <th>0</th>\n",
       "      <td>Nikhar Aventino</td>\n",
       "      <td>Sneha</td>\n",
       "      <td>25/06/2014</td>\n",
       "      <td>4</td>\n",
       "      <td>Bellandur.</td>\n",
       "      <td>?</td>\n",
       "    </tr>\n",
       "    <tr>\n",
       "      <th>1</th>\n",
       "      <td>Mantri Serenity</td>\n",
       "      <td>Guest User</td>\n",
       "      <td>05/06/2021</td>\n",
       "      <td>4</td>\n",
       "      <td>Nice project.</td>\n",
       "      <td>This is an awesome project. Nice atmosphere an...</td>\n",
       "    </tr>\n",
       "    <tr>\n",
       "      <th>2</th>\n",
       "      <td>Mantri Serenity</td>\n",
       "      <td>Neeraj</td>\n",
       "      <td>05/06/2021</td>\n",
       "      <td>3</td>\n",
       "      <td>Good project.</td>\n",
       "      <td>The project offers spacious apartments with lu...</td>\n",
       "    </tr>\n",
       "    <tr>\n",
       "      <th>3</th>\n",
       "      <td>Mantri Serenity</td>\n",
       "      <td>Guest User</td>\n",
       "      <td>05/06/2021</td>\n",
       "      <td>4</td>\n",
       "      <td>Nice project.</td>\n",
       "      <td>This is an awesome project. Nice atmosphere an...</td>\n",
       "    </tr>\n",
       "    <tr>\n",
       "      <th>4</th>\n",
       "      <td>Mantri Serenity</td>\n",
       "      <td>Neeraj</td>\n",
       "      <td>05/06/2021</td>\n",
       "      <td>3</td>\n",
       "      <td>Good project.</td>\n",
       "      <td>The project offers spacious apartments with lu...</td>\n",
       "    </tr>\n",
       "    <tr>\n",
       "      <th>...</th>\n",
       "      <td>...</td>\n",
       "      <td>...</td>\n",
       "      <td>...</td>\n",
       "      <td>...</td>\n",
       "      <td>...</td>\n",
       "      <td>...</td>\n",
       "    </tr>\n",
       "    <tr>\n",
       "      <th>1098</th>\n",
       "      <td>Poetree</td>\n",
       "      <td>Guest User</td>\n",
       "      <td>07/11/2020</td>\n",
       "      <td>4</td>\n",
       "      <td>Well designed project.</td>\n",
       "      <td>Poetree is ready to move residential project l...</td>\n",
       "    </tr>\n",
       "    <tr>\n",
       "      <th>1099</th>\n",
       "      <td>Poetree</td>\n",
       "      <td>Guest User</td>\n",
       "      <td>08/11/2020</td>\n",
       "      <td>4</td>\n",
       "      <td>Nicely located project.</td>\n",
       "      <td>Poetree is a well designed ready to move apart...</td>\n",
       "    </tr>\n",
       "    <tr>\n",
       "      <th>1100</th>\n",
       "      <td>Poetree</td>\n",
       "      <td>Guest User</td>\n",
       "      <td>07/11/2020</td>\n",
       "      <td>4</td>\n",
       "      <td>Well designed project.</td>\n",
       "      <td>Poetree is ready to move residential project l...</td>\n",
       "    </tr>\n",
       "    <tr>\n",
       "      <th>1101</th>\n",
       "      <td>Poetree</td>\n",
       "      <td>Guest User</td>\n",
       "      <td>06/11/2020</td>\n",
       "      <td>4</td>\n",
       "      <td>Well designed project.</td>\n",
       "      <td>Poetree is ready to move residential project l...</td>\n",
       "    </tr>\n",
       "    <tr>\n",
       "      <th>1102</th>\n",
       "      <td>Poetree</td>\n",
       "      <td>vijay</td>\n",
       "      <td>13/05/2015</td>\n",
       "      <td>5</td>\n",
       "      <td>Sarjapur Road.</td>\n",
       "      <td>?</td>\n",
       "    </tr>\n",
       "  </tbody>\n",
       "</table>\n",
       "<p>1103 rows × 6 columns</p>\n",
       "</div>"
      ],
      "text/plain": [
       "        property_name    reviewer        date  stars                  heading  \\\n",
       "0     Nikhar Aventino      Sneha   25/06/2014      4               Bellandur.   \n",
       "1     Mantri Serenity  Guest User  05/06/2021      4            Nice project.   \n",
       "2     Mantri Serenity      Neeraj  05/06/2021      3            Good project.   \n",
       "3     Mantri Serenity  Guest User  05/06/2021      4            Nice project.   \n",
       "4     Mantri Serenity      Neeraj  05/06/2021      3            Good project.   \n",
       "...               ...         ...         ...    ...                      ...   \n",
       "1098          Poetree  Guest User  07/11/2020      4   Well designed project.   \n",
       "1099          Poetree  Guest User  08/11/2020      4  Nicely located project.   \n",
       "1100          Poetree  Guest User  07/11/2020      4   Well designed project.   \n",
       "1101          Poetree  Guest User  06/11/2020      4   Well designed project.   \n",
       "1102          Poetree       vijay  13/05/2015      5           Sarjapur Road.   \n",
       "\n",
       "                                                 review  \n",
       "0                                                     ?  \n",
       "1     This is an awesome project. Nice atmosphere an...  \n",
       "2     The project offers spacious apartments with lu...  \n",
       "3     This is an awesome project. Nice atmosphere an...  \n",
       "4     The project offers spacious apartments with lu...  \n",
       "...                                                 ...  \n",
       "1098  Poetree is ready to move residential project l...  \n",
       "1099  Poetree is a well designed ready to move apart...  \n",
       "1100  Poetree is ready to move residential project l...  \n",
       "1101  Poetree is ready to move residential project l...  \n",
       "1102                                                  ?  \n",
       "\n",
       "[1103 rows x 6 columns]"
      ]
     },
     "execution_count": 24,
     "metadata": {},
     "output_type": "execute_result"
    }
   ],
   "source": [
    "reviews = pd.read_csv('reviews.csv')\n",
    "reviews"
   ]
  },
  {
   "cell_type": "code",
   "execution_count": 25,
   "metadata": {},
   "outputs": [
    {
     "data": {
      "text/plain": [
       "(1103, 6)"
      ]
     },
     "execution_count": 25,
     "metadata": {},
     "output_type": "execute_result"
    }
   ],
   "source": [
    "reviews.shape"
   ]
  },
  {
   "cell_type": "code",
   "execution_count": null,
   "metadata": {},
   "outputs": [],
   "source": []
  }
 ],
 "metadata": {
  "kernelspec": {
   "display_name": "Python 3",
   "language": "python",
   "name": "python3"
  },
  "language_info": {
   "codemirror_mode": {
    "name": "ipython",
    "version": 3
   },
   "file_extension": ".py",
   "mimetype": "text/x-python",
   "name": "python",
   "nbconvert_exporter": "python",
   "pygments_lexer": "ipython3",
   "version": "3.8.5"
  }
 },
 "nbformat": 4,
 "nbformat_minor": 4
}
