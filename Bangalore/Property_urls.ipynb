{
 "cells": [
  {
   "cell_type": "code",
   "execution_count": 18,
   "metadata": {},
   "outputs": [],
   "source": [
    "import pandas as pd\n",
    "import numpy as np\n",
    "import os\n",
    "from bs4 import BeautifulSoup\n",
    "from selenium import webdriver\n",
    "import sys\n",
    "import json\n",
    "import csv\n",
    "import re"
   ]
  },
  {
   "cell_type": "code",
   "execution_count": 19,
   "metadata": {},
   "outputs": [
    {
     "name": "stdout",
     "output_type": "stream",
     "text": [
      "chromedriver path: C:/Users/HP/Downloads/chromedriver_win32/chromedriver\n"
     ]
    }
   ],
   "source": [
    "chromedriver = \"C:/Users/HP/Downloads/chromedriver_win32/chromedriver\" # path to the chromedriver executable\n",
    "chromedriver = os.path.expanduser(chromedriver)\n",
    "print('chromedriver path: {}'.format(chromedriver))\n",
    "sys.path.append(chromedriver)\n",
    "driver = webdriver.Chrome(chromedriver)"
   ]
  },
  {
   "cell_type": "code",
   "execution_count": 20,
   "metadata": {},
   "outputs": [
    {
     "data": {
      "text/html": [
       "<div>\n",
       "<style scoped>\n",
       "    .dataframe tbody tr th:only-of-type {\n",
       "        vertical-align: middle;\n",
       "    }\n",
       "\n",
       "    .dataframe tbody tr th {\n",
       "        vertical-align: top;\n",
       "    }\n",
       "\n",
       "    .dataframe thead th {\n",
       "        text-align: right;\n",
       "    }\n",
       "</style>\n",
       "<table border=\"1\" class=\"dataframe\">\n",
       "  <thead>\n",
       "    <tr style=\"text-align: right;\">\n",
       "      <th></th>\n",
       "      <th>name</th>\n",
       "      <th>id</th>\n",
       "      <th>description</th>\n",
       "      <th>url</th>\n",
       "      <th>price</th>\n",
       "      <th>priceInWord</th>\n",
       "      <th>cityName</th>\n",
       "      <th>addressLocality</th>\n",
       "      <th>longitude</th>\n",
       "      <th>latitude</th>\n",
       "      <th>numberOfRooms</th>\n",
       "      <th>bathroom</th>\n",
       "      <th>bedroom</th>\n",
       "      <th>floorSize</th>\n",
       "      <th>floorno</th>\n",
       "      <th>furnshingstatus</th>\n",
       "      <th>agentName</th>\n",
       "      <th>agentCompanyName</th>\n",
       "      <th>agentMaskedmobilenumber</th>\n",
       "    </tr>\n",
       "  </thead>\n",
       "  <tbody>\n",
       "    <tr>\n",
       "      <th>0</th>\n",
       "      <td>2 BHK Flat  for Sale in   Bellandur, Outer Rin...</td>\n",
       "      <td>domcache_srp_55711761</td>\n",
       "      <td>2 Bath,Unfurnished Luxury takes on a new defin...</td>\n",
       "      <td>https://www.magicbricks.com/propertyDetails/2-...</td>\n",
       "      <td>7049175</td>\n",
       "      <td>70.5 Lac</td>\n",
       "      <td>Bangalore</td>\n",
       "      <td>Bellandur, Outer Ring Road</td>\n",
       "      <td>NaN</td>\n",
       "      <td>NaN</td>\n",
       "      <td>2.0</td>\n",
       "      <td>2.0</td>\n",
       "      <td>2.0</td>\n",
       "      <td>1030 FTK</td>\n",
       "      <td>NaN</td>\n",
       "      <td>Unfurnished</td>\n",
       "      <td>Nikhar  Aventino</td>\n",
       "      <td>NaN</td>\n",
       "      <td>+91-90XXXXXXX08</td>\n",
       "    </tr>\n",
       "    <tr>\n",
       "      <th>1</th>\n",
       "      <td>3 BHK Flat  for Sale in   Kanakapura Road</td>\n",
       "      <td>domcache_srp_57476069</td>\n",
       "      <td>2 Bath,Unfurnished,Ground floor Spread over 19...</td>\n",
       "      <td>https://www.magicbricks.com/propertyDetails/3-...</td>\n",
       "      <td>10186845</td>\n",
       "      <td>1.01 Cr</td>\n",
       "      <td>Bangalore</td>\n",
       "      <td>Kanakapura Road</td>\n",
       "      <td>12.746104</td>\n",
       "      <td>77.487602</td>\n",
       "      <td>3.0</td>\n",
       "      <td>2.0</td>\n",
       "      <td>3.0</td>\n",
       "      <td>1280 FTK</td>\n",
       "      <td>Ground</td>\n",
       "      <td>Unfurnished</td>\n",
       "      <td>Jhalak  Somani</td>\n",
       "      <td>Mantri Developers Pvt. Ltd.</td>\n",
       "      <td>+91-78XXXXXXX25</td>\n",
       "    </tr>\n",
       "  </tbody>\n",
       "</table>\n",
       "</div>"
      ],
      "text/plain": [
       "                                                name                     id  \\\n",
       "0  2 BHK Flat  for Sale in   Bellandur, Outer Rin...  domcache_srp_55711761   \n",
       "1         3 BHK Flat  for Sale in   Kanakapura Road   domcache_srp_57476069   \n",
       "\n",
       "                                         description  \\\n",
       "0  2 Bath,Unfurnished Luxury takes on a new defin...   \n",
       "1  2 Bath,Unfurnished,Ground floor Spread over 19...   \n",
       "\n",
       "                                                 url     price priceInWord  \\\n",
       "0  https://www.magicbricks.com/propertyDetails/2-...   7049175    70.5 Lac   \n",
       "1  https://www.magicbricks.com/propertyDetails/3-...  10186845     1.01 Cr   \n",
       "\n",
       "    cityName             addressLocality  longitude   latitude  numberOfRooms  \\\n",
       "0  Bangalore  Bellandur, Outer Ring Road        NaN        NaN            2.0   \n",
       "1  Bangalore             Kanakapura Road  12.746104  77.487602            3.0   \n",
       "\n",
       "   bathroom  bedroom  floorSize floorno furnshingstatus         agentName  \\\n",
       "0       2.0      2.0  1030 FTK      NaN     Unfurnished  Nikhar  Aventino   \n",
       "1       2.0      3.0  1280 FTK   Ground     Unfurnished    Jhalak  Somani   \n",
       "\n",
       "              agentCompanyName agentMaskedmobilenumber  \n",
       "0                          NaN         +91-90XXXXXXX08  \n",
       "1  Mantri Developers Pvt. Ltd.         +91-78XXXXXXX25  "
      ]
     },
     "execution_count": 20,
     "metadata": {},
     "output_type": "execute_result"
    }
   ],
   "source": [
    "data = pd.read_csv(\"data.csv\",encoding= 'unicode_escape')\n",
    "data.head(2)"
   ]
  },
  {
   "cell_type": "code",
   "execution_count": 21,
   "metadata": {},
   "outputs": [
    {
     "data": {
      "text/plain": [
       "name                         0\n",
       "id                           0\n",
       "description                  0\n",
       "url                          0\n",
       "price                        0\n",
       "priceInWord                  0\n",
       "cityName                     0\n",
       "addressLocality              8\n",
       "longitude                   91\n",
       "latitude                    91\n",
       "numberOfRooms                1\n",
       "bathroom                     2\n",
       "bedroom                      1\n",
       "floorSize                   24\n",
       "floorno                     69\n",
       "furnshingstatus              3\n",
       "agentName                    0\n",
       "agentCompanyName           423\n",
       "agentMaskedmobilenumber      5\n",
       "dtype: int64"
      ]
     },
     "execution_count": 21,
     "metadata": {},
     "output_type": "execute_result"
    }
   ],
   "source": [
    "data.isnull().sum()"
   ]
  },
  {
   "cell_type": "code",
   "execution_count": 22,
   "metadata": {},
   "outputs": [
    {
     "data": {
      "text/plain": [
       "(483, 19)"
      ]
     },
     "execution_count": 22,
     "metadata": {},
     "output_type": "execute_result"
    }
   ],
   "source": [
    "data.shape"
   ]
  },
  {
   "cell_type": "code",
   "execution_count": 23,
   "metadata": {},
   "outputs": [
    {
     "data": {
      "text/plain": [
       "0      https://www.magicbricks.com/propertyDetails/2-...\n",
       "1      https://www.magicbricks.com/propertyDetails/3-...\n",
       "2      https://www.magicbricks.com/propertyDetails/2-...\n",
       "3      https://www.magicbricks.com/propertyDetails/1-...\n",
       "4      https://www.magicbricks.com/propertyDetails/3-...\n",
       "                             ...                        \n",
       "478    https://www.magicbricks.com/propertyDetails/3-...\n",
       "479    https://www.magicbricks.com/propertyDetails/2-...\n",
       "480    https://www.magicbricks.com/propertyDetails/3-...\n",
       "481    https://www.magicbricks.com/propertyDetails/2-...\n",
       "482    https://www.magicbricks.com/propertyDetails/2-...\n",
       "Name: url, Length: 483, dtype: object"
      ]
     },
     "execution_count": 23,
     "metadata": {},
     "output_type": "execute_result"
    }
   ],
   "source": [
    "data['url']"
   ]
  },
  {
   "cell_type": "code",
   "execution_count": 24,
   "metadata": {},
   "outputs": [],
   "source": [
    "hrefs=[]\n",
    "head = ['href']\n",
    "def get_page(soup):\n",
    "    if soup.find(\"div\", {\"class\": \"projName\"}) is not None: \n",
    "        for link in soup.find(\"div\", {\"class\": \"projName\"}).findAll(\"a\"):\n",
    "#             print(link.get(\"href\"))\n",
    "            hrefs.append(str(link.get(\"href\")))\n",
    "    \n",
    "\n",
    "def hrefcsv(hrefs):    \n",
    "    with open(\"href.csv\",'r+') as f:\n",
    "        writer = csv.writer(f)\n",
    "        writer.writerow(head)\n",
    "        for i in hrefs:\n",
    "            writer.writerow([i])\n",
    "        f.close()\n",
    "    \n",
    "        "
   ]
  },
  {
   "cell_type": "code",
   "execution_count": 25,
   "metadata": {},
   "outputs": [],
   "source": [
    "for u in data['url']:    \n",
    "    driver.get(u)\n",
    "    soup = BeautifulSoup(driver.page_source, 'html.parser')\n",
    "    get_page(soup)\n",
    "    \n"
   ]
  },
  {
   "cell_type": "code",
   "execution_count": 26,
   "metadata": {},
   "outputs": [
    {
     "name": "stdout",
     "output_type": "stream",
     "text": [
      "csv file\n"
     ]
    }
   ],
   "source": [
    "with open(\"href.csv\",'w') as f:\n",
    "    print(\"csv file\")\n",
    "    f.close()"
   ]
  },
  {
   "cell_type": "code",
   "execution_count": 27,
   "metadata": {},
   "outputs": [
    {
     "name": "stdout",
     "output_type": "stream",
     "text": [
      "done\n"
     ]
    }
   ],
   "source": [
    "hrefcsv(hrefs)\n",
    "print(\"done\")"
   ]
  },
  {
   "cell_type": "code",
   "execution_count": null,
   "metadata": {},
   "outputs": [],
   "source": []
  }
 ],
 "metadata": {
  "kernelspec": {
   "display_name": "Python 3",
   "language": "python",
   "name": "python3"
  },
  "language_info": {
   "codemirror_mode": {
    "name": "ipython",
    "version": 3
   },
   "file_extension": ".py",
   "mimetype": "text/x-python",
   "name": "python",
   "nbconvert_exporter": "python",
   "pygments_lexer": "ipython3",
   "version": "3.8.5"
  }
 },
 "nbformat": 4,
 "nbformat_minor": 4
}
