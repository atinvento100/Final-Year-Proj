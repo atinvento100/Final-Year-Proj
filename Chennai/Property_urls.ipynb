{
 "cells": [
  {
   "cell_type": "code",
   "execution_count": 8,
   "metadata": {},
   "outputs": [],
   "source": [
    "import pandas as pd\n",
    "import numpy as np\n",
    "import os\n",
    "from bs4 import BeautifulSoup\n",
    "from selenium import webdriver\n",
    "import sys\n",
    "import json\n",
    "import csv\n",
    "import re\n",
    "\n"
   ]
  },
  {
   "cell_type": "code",
   "execution_count": 9,
   "metadata": {},
   "outputs": [
    {
     "name": "stdout",
     "output_type": "stream",
     "text": [
      "chromedriver path: C:/Users/Rohit/Desktop/7th Sem/chromedriver\n"
     ]
    }
   ],
   "source": [
    "chromedriver = \"C:/Users/Rohit/Desktop/7th Sem/chromedriver\" # path to the chromedriver executable\n",
    "chromedriver = os.path.expanduser(chromedriver)\n",
    "print('chromedriver path: {}'.format(chromedriver))\n",
    "sys.path.append(chromedriver)\n",
    "driver = webdriver.Chrome(chromedriver)"
   ]
  },
  {
   "cell_type": "code",
   "execution_count": 10,
   "metadata": {},
   "outputs": [
    {
     "data": {
      "text/html": [
       "<div>\n",
       "<style scoped>\n",
       "    .dataframe tbody tr th:only-of-type {\n",
       "        vertical-align: middle;\n",
       "    }\n",
       "\n",
       "    .dataframe tbody tr th {\n",
       "        vertical-align: top;\n",
       "    }\n",
       "\n",
       "    .dataframe thead th {\n",
       "        text-align: right;\n",
       "    }\n",
       "</style>\n",
       "<table border=\"1\" class=\"dataframe\">\n",
       "  <thead>\n",
       "    <tr style=\"text-align: right;\">\n",
       "      <th></th>\n",
       "      <th>name</th>\n",
       "      <th>id</th>\n",
       "      <th>description</th>\n",
       "      <th>url</th>\n",
       "      <th>price</th>\n",
       "      <th>priceInWord</th>\n",
       "      <th>cityName</th>\n",
       "      <th>addressLocality</th>\n",
       "      <th>longitude</th>\n",
       "      <th>latitude</th>\n",
       "      <th>numberOfRooms</th>\n",
       "      <th>bathroom</th>\n",
       "      <th>bedroom</th>\n",
       "      <th>floorSize</th>\n",
       "      <th>floorno</th>\n",
       "      <th>furnshingstatus</th>\n",
       "      <th>agentName</th>\n",
       "      <th>agentCompanyName</th>\n",
       "      <th>agentMaskedmobilenumber</th>\n",
       "    </tr>\n",
       "  </thead>\n",
       "  <tbody>\n",
       "    <tr>\n",
       "      <th>0</th>\n",
       "      <td>2 BHK Flat  for Sale in   Kolapakkam</td>\n",
       "      <td>domcache_srp_56647695</td>\n",
       "      <td>2 Bath,Unfurnished A Part of the much-coveted ...</td>\n",
       "      <td>https://www.magicbricks.com/propertyDetails/2-...</td>\n",
       "      <td>5454000</td>\n",
       "      <td>54.5 Lac</td>\n",
       "      <td>Chennai</td>\n",
       "      <td>Kolapakkam</td>\n",
       "      <td>13.007786</td>\n",
       "      <td>80.144057</td>\n",
       "      <td>2</td>\n",
       "      <td>2</td>\n",
       "      <td>2</td>\n",
       "      <td>NaN</td>\n",
       "      <td>NaN</td>\n",
       "      <td>Unfurnished</td>\n",
       "      <td>TVS Emerald</td>\n",
       "      <td>TVS Emerald</td>\n",
       "      <td>+91-73XXXXXXX68</td>\n",
       "    </tr>\n",
       "    <tr>\n",
       "      <th>1</th>\n",
       "      <td>2 BHK Flat  for Sale in   Chitlapakkam</td>\n",
       "      <td>domcache_srp_53362047</td>\n",
       "      <td>2 Bath,Unfurnished Larger size 2 bhk. North fa...</td>\n",
       "      <td>https://www.magicbricks.com/propertyDetails/2-...</td>\n",
       "      <td>7675200</td>\n",
       "      <td>76.8 Lac</td>\n",
       "      <td>Chennai</td>\n",
       "      <td>Chitlapakkam</td>\n",
       "      <td>NaN</td>\n",
       "      <td>NaN</td>\n",
       "      <td>2</td>\n",
       "      <td>2</td>\n",
       "      <td>2</td>\n",
       "      <td>1248 FTK</td>\n",
       "      <td>NaN</td>\n",
       "      <td>Unfurnished</td>\n",
       "      <td>Ariff</td>\n",
       "      <td>DAC Promoters</td>\n",
       "      <td>+91-95XXXXXXX39</td>\n",
       "    </tr>\n",
       "  </tbody>\n",
       "</table>\n",
       "</div>"
      ],
      "text/plain": [
       "                                      name                     id  \\\n",
       "0    2 BHK Flat  for Sale in   Kolapakkam   domcache_srp_56647695   \n",
       "1  2 BHK Flat  for Sale in   Chitlapakkam   domcache_srp_53362047   \n",
       "\n",
       "                                         description  \\\n",
       "0  2 Bath,Unfurnished A Part of the much-coveted ...   \n",
       "1  2 Bath,Unfurnished Larger size 2 bhk. North fa...   \n",
       "\n",
       "                                                 url    price priceInWord  \\\n",
       "0  https://www.magicbricks.com/propertyDetails/2-...  5454000    54.5 Lac   \n",
       "1  https://www.magicbricks.com/propertyDetails/2-...  7675200    76.8 Lac   \n",
       "\n",
       "  cityName addressLocality  longitude   latitude  numberOfRooms  bathroom  \\\n",
       "0  Chennai      Kolapakkam  13.007786  80.144057              2         2   \n",
       "1  Chennai    Chitlapakkam        NaN        NaN              2         2   \n",
       "\n",
       "   bedroom  floorSize floorno furnshingstatus    agentName agentCompanyName  \\\n",
       "0        2        NaN     NaN     Unfurnished  TVS Emerald      TVS Emerald   \n",
       "1        2  1248 FTK      NaN     Unfurnished        Ariff    DAC Promoters   \n",
       "\n",
       "  agentMaskedmobilenumber  \n",
       "0         +91-73XXXXXXX68  \n",
       "1         +91-95XXXXXXX39  "
      ]
     },
     "execution_count": 10,
     "metadata": {},
     "output_type": "execute_result"
    }
   ],
   "source": [
    "data = pd.read_csv(\"data.csv\")\n",
    "data.head(2)"
   ]
  },
  {
   "cell_type": "code",
   "execution_count": 11,
   "metadata": {},
   "outputs": [
    {
     "data": {
      "text/plain": [
       "name                         0\n",
       "id                           0\n",
       "description                  0\n",
       "url                          0\n",
       "price                        0\n",
       "priceInWord                  0\n",
       "cityName                     0\n",
       "addressLocality              4\n",
       "longitude                   47\n",
       "latitude                    47\n",
       "numberOfRooms                0\n",
       "bathroom                     0\n",
       "bedroom                      0\n",
       "floorSize                   17\n",
       "floorno                     46\n",
       "furnshingstatus              0\n",
       "agentName                    0\n",
       "agentCompanyName           152\n",
       "agentMaskedmobilenumber      0\n",
       "dtype: int64"
      ]
     },
     "execution_count": 11,
     "metadata": {},
     "output_type": "execute_result"
    }
   ],
   "source": [
    "data.isnull().sum()"
   ]
  },
  {
   "cell_type": "code",
   "execution_count": 12,
   "metadata": {},
   "outputs": [
    {
     "data": {
      "text/plain": [
       "(193, 19)"
      ]
     },
     "execution_count": 12,
     "metadata": {},
     "output_type": "execute_result"
    }
   ],
   "source": [
    "data.shape"
   ]
  },
  {
   "cell_type": "code",
   "execution_count": 13,
   "metadata": {},
   "outputs": [
    {
     "data": {
      "text/plain": [
       "0      https://www.magicbricks.com/propertyDetails/2-...\n",
       "1      https://www.magicbricks.com/propertyDetails/2-...\n",
       "2      https://www.magicbricks.com/propertyDetails/3-...\n",
       "3      https://www.magicbricks.com/propertyDetails/2-...\n",
       "4      https://www.magicbricks.com/propertyDetails/2-...\n",
       "                             ...                        \n",
       "188    https://www.magicbricks.com/propertyDetails/2-...\n",
       "189    https://www.magicbricks.com/propertyDetails/2-...\n",
       "190    https://www.magicbricks.com/propertyDetails/3-...\n",
       "191    https://www.magicbricks.com/propertyDetails/2-...\n",
       "192    https://www.magicbricks.com/propertyDetails/2-...\n",
       "Name: url, Length: 193, dtype: object"
      ]
     },
     "execution_count": 13,
     "metadata": {},
     "output_type": "execute_result"
    }
   ],
   "source": [
    "data['url']"
   ]
  },
  {
   "cell_type": "code",
   "execution_count": 14,
   "metadata": {},
   "outputs": [],
   "source": [
    "hrefs=[]\n",
    "head = ['href']\n",
    "def get_page(soup):\n",
    "    if soup.find(\"div\", {\"class\": \"projName\"}) is not None: \n",
    "        for link in soup.find(\"div\", {\"class\": \"projName\"}).findAll(\"a\"):\n",
    "#             print(link.get(\"href\"))\n",
    "            hrefs.append(str(link.get(\"href\")))\n",
    "    \n",
    "\n",
    "def hrefcsv(hrefs):    \n",
    "    with open(\"href.csv\",'r+') as f:\n",
    "        writer = csv.writer(f)\n",
    "        writer.writerow(head)\n",
    "        for i in hrefs:\n",
    "            writer.writerow([i])\n",
    "        f.close()\n",
    "    \n",
    "        "
   ]
  },
  {
   "cell_type": "code",
   "execution_count": 15,
   "metadata": {},
   "outputs": [],
   "source": [
    "for u in data['url']:    \n",
    "    driver.get(u)\n",
    "    soup = BeautifulSoup(driver.page_source, 'html.parser')\n",
    "    get_page(soup)\n",
    "    \n"
   ]
  },
  {
   "cell_type": "code",
   "execution_count": 16,
   "metadata": {},
   "outputs": [
    {
     "name": "stdout",
     "output_type": "stream",
     "text": [
      "csv file\n"
     ]
    }
   ],
   "source": [
    "with open(\"href.csv\",'w') as f:\n",
    "    print(\"csv file\")\n",
    "    f.close()"
   ]
  },
  {
   "cell_type": "code",
   "execution_count": 17,
   "metadata": {},
   "outputs": [
    {
     "name": "stdout",
     "output_type": "stream",
     "text": [
      "done\n"
     ]
    }
   ],
   "source": [
    "hrefcsv(hrefs)\n",
    "print(\"done\")"
   ]
  },
  {
   "cell_type": "code",
   "execution_count": null,
   "metadata": {},
   "outputs": [],
   "source": []
  }
 ],
 "metadata": {
  "kernelspec": {
   "display_name": "Python 3",
   "language": "python",
   "name": "python3"
  },
  "language_info": {
   "codemirror_mode": {
    "name": "ipython",
    "version": 3
   },
   "file_extension": ".py",
   "mimetype": "text/x-python",
   "name": "python",
   "nbconvert_exporter": "python",
   "pygments_lexer": "ipython3",
   "version": "3.8.3"
  }
 },
 "nbformat": 4,
 "nbformat_minor": 4
}
